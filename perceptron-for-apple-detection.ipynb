{
 "cells": [
  {
   "cell_type": "code",
   "execution_count": 12,
   "metadata": {},
   "outputs": [
    {
     "name": "stdout",
     "output_type": "stream",
     "text": [
      "1022\n"
     ]
    },
    {
     "data": {
      "text/plain": [
       "'\\ninput_labels = (labels > 0).astype(dtype=np.float)\\nimages = np.reshape(images, (images.shape[0], images.shape[1] * images.shape[2]))\\nimages = images.astype(dtype=np.float)\\nimages = images/255\\n\\ntrain_images = torch.Tensor(images[0:40000, : ])\\ncv_images = torch.Tensor(images[40000:45000, : ])\\ntest_images = torch.Tensor(images[45000:50000, :])\\n\\n#split the labels in to train, validation and test data\\ntrain_labels = torch.FloatTensor(input_labels[0:40000])\\ncv_labels = torch.FloatTensor(input_labels[40000:45000])\\ntest_labels = torch .FloatTensor(input_labels[45000:50000])\\n'"
      ]
     },
     "execution_count": 12,
     "metadata": {},
     "output_type": "execute_result"
    }
   ],
   "source": [
    "import torch\n",
    "import numpy as np\n",
    "from torch.autograd import Variable\n",
    "import torch.nn as nn\n",
    "\n",
    "images = np.load(\"./images.npy\")\n",
    "labels = np.load(\"./labels.npy\")\n",
    "\n",
    "train_labels = labels[0:40000]\n",
    "cv_labels = labels[40000:45000]\n",
    "test_labels = labels[45000:50000]\n",
    "\n",
    "print(np.sum(cv_labels == 2))\n",
    "\n",
    "\n",
    "\"\"\"\n",
    "input_labels = (labels > 0).astype(dtype=np.float)\n",
    "images = np.reshape(images, (images.shape[0], images.shape[1] * images.shape[2]))\n",
    "images = images.astype(dtype=np.float)\n",
    "images = images/255\n",
    "\n",
    "train_images = torch.Tensor(images[0:40000, : ])\n",
    "cv_images = torch.Tensor(images[40000:45000, : ])\n",
    "test_images = torch.Tensor(images[45000:50000, :])\n",
    "\n",
    "#split the labels in to train, validation and test data\n",
    "train_labels = torch.FloatTensor(input_labels[0:40000])\n",
    "cv_labels = torch.FloatTensor(input_labels[40000:45000])\n",
    "test_labels = torch .FloatTensor(input_labels[45000:50000])\n",
    "\"\"\""
   ]
  },
  {
   "cell_type": "code",
   "execution_count": 5,
   "metadata": {},
   "outputs": [],
   "source": [
    "dtype = torch.FloatTensor\n",
    "\n",
    "\n",
    "# N is batch size; D_in is input dimension;\n",
    "# H is hidden dimension; D_out is output dimension.\n",
    "N, D_in, D_out = 64, 676, 1\n",
    "\n",
    "\n",
    "w1 = Variable(torch.randn(D_in, 1).type(dtype), requires_grad=True)\n",
    "\n",
    "learning_rate = 0.0001\n",
    "for i in range(5):\n",
    "    for t in range(40000):\n",
    "\n",
    "        x = Variable(train_images[t].view(1,676), requires_grad=False)\n",
    "\n",
    "        y = train_labels[t]\n",
    "        if y == 0.0:\n",
    "            y = -1.0\n",
    "\n",
    "        y_pred = torch.sign(x.mm(w1))\n",
    "        if (y_pred.data[0][0] != y):\n",
    "            loss = torch.max(Variable(torch.zeros(1)), -y * (torch.matmul(x, w1)))\n",
    "            loss.backward()\n",
    "            w1.data -= learning_rate * w1.grad.data\n",
    "            w1.data = w1.data/torch.norm(w1.data)\n",
    "\n",
    "            w1.grad.data.zero_()"
   ]
  },
  {
   "cell_type": "code",
   "execution_count": 7,
   "metadata": {},
   "outputs": [
    {
     "name": "stdout",
     "output_type": "stream",
     "text": [
      "4755\n",
      "0.9511902380476095\n"
     ]
    }
   ],
   "source": [
    "count =0\n",
    "for k in range(5000):\n",
    "    \n",
    "    #a = Variable(cv_images[k].view(1,676), requires_grad=False)\n",
    "    a = Variable(test_images[k].view(1,676), requires_grad=False)\n",
    "    #a = Variable(train_images[k].view(1,676), requires_grad=False)\n",
    "    \n",
    "    y_pred = torch.sign(a.mm(w1))\n",
    "    \n",
    "    \n",
    "    res = y_pred.data[0][0]\n",
    "    if res == -1 :\n",
    "        res = 0\n",
    "    #print(res)\n",
    "    if res == test_labels[k]:\n",
    "    #if res == train_labels[k]:\n",
    "        count += 1\n",
    "print(count)        \n",
    "print(count/k)\n",
    "    "
   ]
  },
  {
   "cell_type": "code",
   "execution_count": null,
   "metadata": {},
   "outputs": [],
   "source": []
  }
 ],
 "metadata": {
  "kernelspec": {
   "display_name": "Python 3",
   "language": "python",
   "name": "python3"
  },
  "language_info": {
   "codemirror_mode": {
    "name": "ipython",
    "version": 3
   },
   "file_extension": ".py",
   "mimetype": "text/x-python",
   "name": "python",
   "nbconvert_exporter": "python",
   "pygments_lexer": "ipython3",
   "version": "3.5.3"
  }
 },
 "nbformat": 4,
 "nbformat_minor": 2
}
