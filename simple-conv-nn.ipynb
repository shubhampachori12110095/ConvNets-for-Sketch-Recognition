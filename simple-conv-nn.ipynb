{
 "cells": [
  {
   "cell_type": "markdown",
   "metadata": {},
   "source": [
    "Create a new Markdown cell and answer: Above we mentioned that convolutional\n",
    "filters are applied to local image regions, with weights shared across regions.\n",
    "How does this compare to fully-connected neural networks?\n",
    "\n",
    "Answer: TBD"
   ]
  },
  {
   "cell_type": "code",
   "execution_count": 211,
   "metadata": {},
   "outputs": [],
   "source": [
    "%matplotlib inline\n",
    "import matplotlib.pyplot as plt\n",
    "\n",
    "import numpy as np\n",
    "import torch\n",
    "from torch import autograd\n",
    "import torch.nn.functional as F\n",
    "\n",
    "#Prepare the data.\n",
    "import torch\n",
    "import numpy as np\n",
    "from torch.autograd import Variable\n",
    "import torch.nn as nn\n",
    "from numpy import linalg as LA\n",
    "\n",
    "dtype = torch.FloatTensor\n",
    "\n",
    "images = np.load(\"./data/images.npy\")\n",
    "labels = np.load(\"./data/labels.npy\")\n",
    "\n",
    "images = np.reshape(images, (images.shape[0], images.shape[1] * images.shape[2]))\n",
    "\n",
    "images = images - images.mean()\n",
    "images = images/images.std() \n",
    "\n",
    "train_seqs = images[0:40000]\n",
    "val_seqs = images[40000:50000]\n",
    "\n",
    "train_labels = labels[0:40000]\n",
    "cv_labels = labels[40000:50000]"
   ]
  },
  {
   "cell_type": "code",
   "execution_count": 212,
   "metadata": {},
   "outputs": [],
   "source": [
    "HEIGHT, WIDTH, NUM_CLASSES, NUM_OPT_STEPS = 26, 26, 5, 5000\n",
    "learning_rate = 0.01\n",
    "\n",
    "class TooSimpleConvNN(torch.nn.Module):\n",
    "    def __init__(self):\n",
    "        super().__init__()\n",
    "        # 3x3 convolution that takes in an image with one channel\n",
    "        # and outputs an image with 8 channels.\n",
    "        self.conv1 = torch.nn.Conv2d(1, 8, kernel_size=3)\n",
    "        # 3x3 convolution that takes in an image with 8 channels\n",
    "        # and outputs an image with 16 channels. The output image\n",
    "        # has approximately half the height and half the width\n",
    "        # because of the stride of 2.\n",
    "        self.conv2 = torch.nn.Conv2d(8, 16, kernel_size=3, stride=2)\n",
    "        # 1x1 convolution that takes in an image with 16 channels and\n",
    "        # produces an image with 5 channels. Here, the 5 channels\n",
    "        # will correspond to class scores.\n",
    "        self.final_conv = torch.nn.Conv2d(16, 5, kernel_size=1)\n",
    "    \n",
    "    def forward(self, x):\n",
    "        # Convolutions work with images of shape\n",
    "        # [batch_size, num_channels, height, width]\n",
    "        x = x.view(-1, HEIGHT, WIDTH).unsqueeze(1)\n",
    "        x = F.relu(self.conv1(x))\n",
    "        x = F.relu(self.conv2(x))\n",
    "        n, c, h, w = x.size()\n",
    "        x = F.avg_pool2d(x, kernel_size=[h, w])\n",
    "        x = self.final_conv(x).view(-1, NUM_CLASSES)\n",
    "        return x\n",
    "        "
   ]
  },
  {
   "cell_type": "code",
   "execution_count": 213,
   "metadata": {},
   "outputs": [],
   "source": [
    "model = TooSimpleConvNN()"
   ]
  },
  {
   "cell_type": "code",
   "execution_count": 214,
   "metadata": {},
   "outputs": [],
   "source": [
    "optimizer = torch.optim.Adam(model.parameters(), lr= learning_rate)"
   ]
  },
  {
   "cell_type": "code",
   "execution_count": 215,
   "metadata": {},
   "outputs": [],
   "source": [
    "def train(batch_size):\n",
    "    model.train()\n",
    "    \n",
    "    i = np.random.choice(train_seqs.shape[0], size = batch_size, replace=False)\n",
    "    x = Variable(torch.from_numpy(train_seqs[i].astype(np.float32)))\n",
    "    y = Variable(torch.from_numpy(train_labels[i].astype(np.int)))\n",
    "    \n",
    "    optimizer.zero_grad()\n",
    "    y_hat = model(x)\n",
    "    loss = F.cross_entropy(y_hat, y)\n",
    "    loss.backward()\n",
    "    optimizer.step()\n",
    "    \n",
    "    return loss.data[0]"
   ]
  },
  {
   "cell_type": "code",
   "execution_count": 216,
   "metadata": {},
   "outputs": [],
   "source": [
    "def accuracy(y, y_hat):\n",
    "    count = 0\n",
    "    for i in range(y.shape[0]):\n",
    "        if y[i] == y_hat[i]:\n",
    "            count += 1\n",
    "    return count/y.shape[0]"
   ]
  },
  {
   "cell_type": "code",
   "execution_count": 217,
   "metadata": {},
   "outputs": [],
   "source": [
    "import random\n",
    "def approx_train_accuracy():\n",
    "    i = np.random.choice(train_seqs.shape[0], size = 1000, replace=False)\n",
    "    x = Variable(torch.from_numpy(train_seqs[i].astype(np.float32)))\n",
    "    y = train_labels[i].astype(np.int)\n",
    "    \n",
    "    output = model(x)\n",
    "    y_hat = np.argmax(output.data.numpy(), axis =1)\n",
    "    acc = accuracy(y,y_hat)\n",
    "    return acc\n",
    "\n",
    "def val_accuracy():\n",
    "    i = np.random.choice(val_seqs.shape[0], size = 1000, replace=False)\n",
    "    x = Variable(torch.from_numpy(val_seqs[i].astype(np.float32)))\n",
    "    y = cv_labels[i].astype(np.int) \n",
    "    \n",
    "    output = model(x)\n",
    "    y_hat = np.argmax(output.data.numpy(), axis =1)\n",
    "    acc = accuracy(y,y_hat)\n",
    "\n",
    "    return acc"
   ]
  },
  {
   "cell_type": "code",
   "execution_count": 218,
   "metadata": {},
   "outputs": [
    {
     "name": "stdout",
     "output_type": "stream",
     "text": [
      "     0  0.20  0.20\n",
      "   100  0.24  0.24\n",
      "   200  0.53  0.51\n",
      "   300  0.54  0.51\n",
      "   400  0.52  0.50\n",
      "   500  0.58  0.56\n",
      "   600  0.56  0.56\n",
      "   700  0.60  0.58\n",
      "   800  0.62  0.64\n",
      "   900  0.56  0.55\n",
      "  1000  0.63  0.62\n",
      "  1100  0.59  0.58\n",
      "  1200  0.53  0.54\n",
      "  1300  0.63  0.63\n",
      "  1400  0.64  0.65\n",
      "  1500  0.63  0.62\n",
      "  1600  0.65  0.63\n",
      "  1700  0.63  0.64\n",
      "  1800  0.63  0.59\n",
      "  1900  0.65  0.64\n"
     ]
    }
   ],
   "source": [
    "for m in model.children():\n",
    "    m.reset_parameters()\n",
    "optimizer = torch.optim.Adam(model.parameters(), lr= 0.001)\n",
    "train_accs, val_accs = [], []\n",
    "batch_size = 10\n",
    "for i in range(2000):\n",
    "    l = train(batch_size)\n",
    "    if i % 100 == 0:\n",
    "        train_accs.append(approx_train_accuracy())\n",
    "        val_accs.append(val_accuracy())\n",
    "        print(\"%6d %5.2f %5.2f\" % (i, train_accs[-1], val_accs[-1]))"
   ]
  },
  {
   "cell_type": "code",
   "execution_count": null,
   "metadata": {
    "scrolled": true
   },
   "outputs": [
    {
     "name": "stdout",
     "output_type": "stream",
     "text": [
      "max_train accuracy:  0.653\n",
      "max_val accuracy:  0.653\n"
     ]
    },
    {
     "data": {
      "image/png": "[encoded data removed]",
      "text/plain": [
       "<matplotlib.figure.Figure at 0x7f7537d50828>"
      ]
     },
     "metadata": {},
     "output_type": "display_data"
    }
   ],
   "source": [
    "import matplotlib.pyplot as plt\n",
    "\n",
    "\n",
    "t = np.arange(0,len(train_accs),1)\n",
    "\n",
    "s = train_accs\n",
    "k = val_accs\n",
    "print(\"max_train accuracy: \", max(train_accs))\n",
    "print(\"max_val accuracy: \", max(val_accs))\n",
    "plt.figure(figsize=(8,8), dpi = 80)\n",
    "plt.plot(t, s, t, k)\n",
    "\n",
    "plt.xlabel('number of iteration')\n",
    "plt.ylabel('accuracy')\n",
    "plt.title('Training/validation accuracy')\n",
    "plt.grid(True)\n",
    "plt.show()"
   ]
  },
  {
   "cell_type": "code",
   "execution_count": null,
   "metadata": {},
   "outputs": [
    {
     "name": "stdout",
     "output_type": "stream",
     "text": [
      "     0  0.17  0.19\n",
      "   100  0.70  0.72\n",
      "   200  0.72  0.75\n",
      "   300  0.78  0.78\n",
      "   400  0.81  0.81\n",
      "   500  0.77  0.80\n"
     ]
    }
   ],
   "source": [
    "for m in model.children():\n",
    "    m.reset_parameters()\n",
    "optimizer = torch.optim.Adam(model.parameters(), lr= 0.05)\n",
    "train_accs, val_accs = [], []\n",
    "batch_size = 300\n",
    "for i in range(5000):\n",
    "    l = train(batch_size)\n",
    "    if i % 100 == 0:\n",
    "        train_accs.append(approx_train_accuracy())\n",
    "        val_accs.append(val_accuracy())\n",
    "        print(\"%6d %5.2f %5.2f\" % (i, train_accs[-1], val_accs[-1]))"
   ]
  },
  {
   "cell_type": "code",
   "execution_count": null,
   "metadata": {},
   "outputs": [],
   "source": [
    "t = np.arange(0,len(train_accs),1)\n",
    "\n",
    "s = train_accs\n",
    "k = val_accs\n",
    "print(\"max_train accuracy: \", max(train_accs))\n",
    "print(\"max_val accuracy: \", max(val_accs))\n",
    "plt.figure(figsize=(8,8), dpi = 80)\n",
    "plt.plot(t, s, t, k)\n",
    "\n",
    "plt.xlabel('number of iteration')\n",
    "plt.ylabel('accuracy')\n",
    "plt.title('Training/validation accuracy')\n",
    "plt.grid(True)\n",
    "plt.show()"
   ]
  }
 ],
 "metadata": {
  "kernelspec": {
   "display_name": "Python 3",
   "language": "python",
   "name": "python3"
  },
  "language_info": {
   "codemirror_mode": {
    "name": "ipython",
    "version": 3
   },
   "file_extension": ".py",
   "mimetype": "text/x-python",
   "name": "python",
   "nbconvert_exporter": "python",
   "pygments_lexer": "ipython3",
   "version": "3.5.3"
  }
 },
 "nbformat": 4,
 "nbformat_minor": 2
}
