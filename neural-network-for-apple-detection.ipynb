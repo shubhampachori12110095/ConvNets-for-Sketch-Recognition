{
 "cells": [
  {
   "cell_type": "code",
   "execution_count": 427,
   "metadata": {
    "collapsed": true
   },
   "outputs": [],
   "source": [
    "import torch\n",
    "import numpy as np\n",
    "from torch.autograd import Variable\n",
    "import torch.nn as nn\n",
    "\n",
    "images = np.load(\"./images.npy\")\n",
    "labels = np.load(\"./labels.npy\")\n",
    "\n",
    "input_labels = (labels > 0).astype(dtype=np.float)\n",
    "images = np.reshape(images, (images.shape[0], images.shape[1] * images.shape[2]))\n",
    "images = images.astype(dtype=np.float)\n",
    "images = images/255\n",
    "\n",
    "train_images = torch.Tensor(images[0:40000, : ])\n",
    "cv_images = torch.Tensor(images[40000:45000, : ])\n",
    "test_images = torch.Tensor(images[45000:50000, :])\n",
    "\n",
    "#split the labels in to train, validation and test data\n",
    "train_labels = torch.FloatTensor(input_labels[0:40000])\n",
    "cv_labels = torch.FloatTensor(input_labels[40000:45000])\n",
    "test_labels = torch .FloatTensor(input_labels[45000:50000])"
   ]
  },
  {
   "cell_type": "code",
   "execution_count": 1,
   "metadata": {},
   "outputs": [],
   "source": [
    "def accuracy(y,y_hat):\n",
    "    count = 0\n",
    "    for i in range(y.shape[0]):\n",
    "        if y[i] == y_hat[i]:\n",
    "            count += 1\n",
    "    return count/y.shape[0]\n",
    "\n",
    "def accuracy_random_train():\n",
    "\n",
    "    import random\n",
    "    import numpy as np\n",
    "\n",
    "\n",
    "    x =random.sample(range(0,40000),1000)\n",
    "    y = np.empty(1000)\n",
    "    y_hat = np.empty(1000)\n",
    "\n",
    "\n",
    "    index=0\n",
    "    print(w1)\n",
    "    \n",
    "    for i in x:\n",
    "\n",
    "        images_random = Variable(train_images[i].view(1,676), requires_grad=False)\n",
    "        y[index] = train_labels[i]\n",
    "\n",
    "        y_pred = torch.sigmoid(images_random.mm(w1).clamp(0).mm(w2))\n",
    "        #y_pred = torch.sigmoid(a.mm(w1).clamp(0).mm(w2))\n",
    "        \n",
    "        \n",
    "\n",
    "        res = y_pred.data[0][0]\n",
    "    \n",
    "\n",
    "        if res <= 0.5:\n",
    "            act_label = 0\n",
    "        else:\n",
    "            act_label = 1\n",
    "\n",
    "        y_hat[index] = act_label\n",
    "        index += 1\n",
    "\n",
    "    acc = accuracy(y,y_hat)\n",
    "   \n",
    "  \n",
    "    return acc\n",
    "\n",
    "\n",
    "    \n",
    "\n",
    "def accuracy_random_validation():\n",
    "\n",
    "    import random\n",
    "    import numpy as np\n",
    "\n",
    "\n",
    "    x =random.sample(range(0,5000),1000)\n",
    "    y = np.empty(1000)\n",
    "    y_hat = np.empty(1000)\n",
    "\n",
    "\n",
    "    index=0\n",
    "    \n",
    "    for i in x:\n",
    "\n",
    "        images_random = Variable(cv_images[i].view(1,676), requires_grad=False)\n",
    "        y[index] = cv_labels[i]\n",
    "\n",
    "       \n",
    "        y_pred = torch.sigmoid(images_random.mm(w1).clamp(0).mm(w2))\n",
    "\n",
    "\n",
    "        res = y_pred.data[0][0]\n",
    "    \n",
    "\n",
    "        if res <= 0.5:\n",
    "            act_label = 0\n",
    "        else:\n",
    "            act_label = 1\n",
    "\n",
    "        y_hat[index] = act_label\n",
    "        index += 1\n",
    "\n",
    "    acc = accuracy(y,y_hat)\n",
    "  \n",
    "    return acc\n",
    "\n"
   ]
  },
  {
   "cell_type": "code",
   "execution_count": null,
   "metadata": {
    "collapsed": true,
    "scrolled": false
   },
   "outputs": [],
   "source": [
    "dtype = torch.FloatTensor\n",
    "\n",
    "# N is batch size; D_in is input dimension;\n",
    "# H is hidden dimension; D_out is output dimension.\n",
    "N, D_in, H, D_out = 64, 676, 100, 1\n",
    "online_training_iterations = 4\n",
    "input_size = 40000\n",
    "size = (online_training_iterations * input_size) / 100\n",
    "index = 0\n",
    "\n",
    "# N dimensional arrays to store training and validation accuracies for every 100 steps\n",
    "accuracy_train = []\n",
    "accuracy_valid = []\n",
    "w1 = Variable(torch.randn(D_in, H).type(dtype), requires_grad=True)\n",
    "w2 = Variable(torch.randn(H, D_out).type(dtype), requires_grad=True)\n",
    "\n",
    "learning_rate = 0.001\n",
    "for i in range(online_training_iterations):\n",
    "    for t in range(40000):\n",
    "\n",
    "        x = Variable(train_images[t].view(1,676), requires_grad=False)\n",
    "\n",
    "        y = train_labels[t]\n",
    "        \n",
    "        \n",
    "        y_pred = torch.sigmoid(x.mm(w1).clamp(min = 0).mm(w2).clamp(min= 0.001, max= 0.999))\n",
    "        \n",
    "        loss = -(y * torch.log(y_pred) + \n",
    "                 (1-y) * torch.log(1 - y_pred)) \n",
    "        \n",
    "        if t%100 == 0:\n",
    "            accuracy_train.append(accuracy_random_train())\n",
    "            accuracy_valid.append(accuracy_random_validation())\n",
    "\n",
    "        loss.backward()\n",
    "        w1.data -= learning_rate * w1.grad.data\n",
    "        w2.data -= learning_rate * w2.grad.data\n",
    "        \n",
    "        w1.data = w1.data/torch.norm(w1.data)\n",
    "        w2.data = w2.data/torch.norm(w2.data)\n",
    "\n",
    "        w1.grad.data.zero_()\n",
    "        w2.grad.data.zero_()    "
   ]
  },
  {
   "cell_type": "code",
   "execution_count": 441,
   "metadata": {},
   "outputs": [
    {
     "data": {
      "image/png": "[encoded data removed]",
      "text/plain": [
       "<matplotlib.figure.Figure at 0x7fa388db2e80>"
      ]
     },
     "metadata": {},
     "output_type": "display_data"
    },
    {
     "data": {
      "text/plain": [
       "<matplotlib.figure.Figure at 0x7fa388f00630>"
      ]
     },
     "metadata": {},
     "output_type": "display_data"
    }
   ],
   "source": [
    "import matplotlib.pyplot as plt\n",
    "\n",
    "\n",
    "t = np.arange(0,400,1)\n",
    "\n",
    "s = accuracy_train[0:400]\n",
    "k = accuracy_valid[0:400]\n",
    "plt.plot(t, s, t, k)\n",
    "\n",
    "plt.xlabel('number of iteration')\n",
    "plt.ylabel('accuracy')\n",
    "plt.title('Training/validation accuracy')\n",
    "plt.grid(True)\n",
    "plt.show()"
   ]
  },
  {
   "cell_type": "markdown",
   "metadata": {},
   "source": [
    "# Is this Overfitting:\n",
    "\n",
    "From the plot above, there is no over fitting. The accuracies of training and cross validation data sets differ only by 1 percentage points"
   ]
  },
  {
   "cell_type": "markdown",
   "metadata": {},
   "source": [
    "Kaggle submission username : villa1"
   ]
  }
 ],
 "metadata": {
  "kernelspec": {
   "display_name": "Python 3",
   "language": "python",
   "name": "python3"
  },
  "language_info": {
   "codemirror_mode": {
    "name": "ipython",
    "version": 3
   },
   "file_extension": ".py",
   "mimetype": "text/x-python",
   "name": "python",
   "nbconvert_exporter": "python",
   "pygments_lexer": "ipython3",
   "version": "3.5.3"
  }
 },
 "nbformat": 4,
 "nbformat_minor": 2
}
