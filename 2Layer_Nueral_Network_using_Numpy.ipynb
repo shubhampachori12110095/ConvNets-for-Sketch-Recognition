{
 "cells": [
  {
   "cell_type": "code",
   "execution_count": 11,
   "metadata": {},
   "outputs": [
    {
     "name": "stdout",
     "output_type": "stream",
     "text": [
      "0 25165598.0102\n"
     ]
    }
   ],
   "source": [
    "import numpy as np\n",
    "\n",
    "\"\"\"\n",
    "define your neural network. These parameters have to be initially declared.\n",
    "N: input batch size, \n",
    "D_in: Input dimensions(here we have a total of 1000 input data)\n",
    "D_out: Output labels  \n",
    "H : number of hidden units. we have 10 here\n",
    "\"\"\"\n",
    "N, D_in, H, D_out = 64, 1000, 100, 10\n",
    "\n",
    "#Create random input and output data\n",
    "\n",
    "x = np.random.randn(N, D_in)\n",
    "y = np.random.randn(N, D_out)\n",
    "\n",
    "#initialize random weights\n",
    "w1 = np.random.randn(D_in, H)\n",
    "w2 = np.random.randn(H, D_out)\n",
    "\n",
    "#Define Learning rate to update weights\n",
    "learning_rate = 1e-6\n",
    "\n",
    "#We compute the gradients on complete bath rather than individual inputs\n",
    "#run the loop for predefined epochs\n",
    "\n",
    "for run in range(500):\n",
    "    \n",
    "    #Step:1 Forward pass\n",
    "    h = x.dot(w1)\n",
    "    #pass thru non linear activation function. Using RELU\n",
    "    h_relu = np.maximum(h, 0)\n",
    "    \n",
    "    # compute the dot products to output layer. No activation here\n",
    "    y_pred = h_relu.dot(w2)\n",
    "    \n",
    "    #Step2: Compute loss\n",
    "    loss = np.square(y - y_pred).sum()\n",
    "    print(run, loss)\n",
    "    \n",
    "    #step3: Gradient Descent: Back prop to compute gradients of w1 and w2\n",
    "    grad_y_pred = 2 * (y_pred - y)\n",
    "    grad_w2 = h_relu.T.dot(grad_y_pred)\n",
    "    grad_h_relu = grad_y_pred.dot(w2.T)\n",
    "    grad_h = grad_h_relu.copy()\n",
    "    grad_h[h < 0] = 0\n",
    "    grad_w1 = x.T.dot(grad_h)\n",
    "    \n",
    "    #update weights\n",
    "    w1 -= learning_rate * grad_w1\n",
    "    w2 -= learning_rate * grad_w2\n",
    "    \n",
    "    \n",
    "    "
   ]
  }
 ],
 "metadata": {
  "kernelspec": {
   "display_name": "Python 3",
   "language": "python",
   "name": "python3"
  },
  "language_info": {
   "codemirror_mode": {
    "name": "ipython",
    "version": 3
   },
   "file_extension": ".py",
   "mimetype": "text/x-python",
   "name": "python",
   "nbconvert_exporter": "python",
   "pygments_lexer": "ipython3",
   "version": "3.5.3"
  }
 },
 "nbformat": 4,
 "nbformat_minor": 2
}
