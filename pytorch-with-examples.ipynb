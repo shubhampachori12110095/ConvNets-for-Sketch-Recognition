{
 "cells": [
  {
   "cell_type": "code",
   "execution_count": 11,
   "metadata": {},
   "outputs": [
    {
     "name": "stdout",
     "output_type": "stream",
     "text": [
      "0 25165598.0102\n"
     ]
    }
   ],
   "source": [
    "import numpy as np\n",
    "\n",
    "\"\"\"\n",
    "define your neural network. These parameters have to be initially declared.\n",
    "N: input batch size, \n",
    "D_in: Input dimensions(here we have a total of 1000 input data)\n",
    "D_out: Output labels  \n",
    "H : number of hidden units. we have 10 here\n",
    "\"\"\"\n",
    "N, D_in, H, D_out = 64, 1000, 100, 10\n",
    "\n",
    "#Create random input and output data\n",
    "\n",
    "x = np.random.randn(N, D_in)\n",
    "y = np.random.randn(N, D_out)\n",
    "\n",
    "#initialize random weights\n",
    "w1 = np.random.randn(D_in, H)\n",
    "w2 = np.random.randn(H, D_out)\n",
    "\n",
    "#Define Learning rate to update weights\n",
    "learning_rate = 1e-6\n",
    "\n",
    "#We compute the gradients on complete bath rather than individual inputs\n",
    "#run the loop for predefined epochs\n",
    "\n",
    "for run in range(500):\n",
    "    \n",
    "    #Step:1 Forward pass\n",
    "    h = x.dot(w1)\n",
    "    #pass thru non linear activation function. Using RELU\n",
    "    h_relu = np.maximum(h, 0)\n",
    "    \n",
    "    # compute the dot products to output layer. No activation here\n",
    "    y_pred = h_relu.dot(w2)\n",
    "    \n",
    "    #Step2: Compute loss\n",
    "    loss = np.square(y - y_pred).sum()\n",
    "    print(run, loss)\n",
    "    \n",
    "    #step3: Gradient Descent: Back prop to compute gradients of w1 and w2\n",
    "    grad_y_pred = 2 * (y_pred - y)\n",
    "    grad_w2 = h_relu.T.dot(grad_y_pred)\n",
    "    grad_h_relu = grad_y_pred.dot(w2.T)\n",
    "    grad_h = grad_h_relu.copy()\n",
    "    grad_h[h < 0] = 0\n",
    "    grad_w1 = x.T.dot(grad_h)\n",
    "    \n",
    "    #update weights\n",
    "    w1 -= learning_rate * grad_w1\n",
    "    w2 -= learning_rate * grad_w2\n",
    "    \n",
    "    \n",
    "    "
   ]
  },
  {
   "cell_type": "markdown",
   "metadata": {},
   "source": [
    "# 2 layer neural using Tensors"
   ]
  },
  {
   "cell_type": "code",
   "execution_count": 8,
   "metadata": {},
   "outputs": [
    {
     "name": "stdout",
     "output_type": "stream",
     "text": [
      "0 37735796.56236088\n"
     ]
    }
   ],
   "source": [
    "import torch\n",
    "\n",
    "dtype = torch.FloatTensor\n",
    "\n",
    "\"\"\"\n",
    "N is the batch size\n",
    "D_in is the input dimension\n",
    "D_out is the Output dimension. Number of expected labels\n",
    "h is number of hidden units.\n",
    "\"\"\"\n",
    "N, D_in, D_out, H = 64, 1000, 10, 100\n",
    "\n",
    "#create input and out put matrix\n",
    "\n",
    "x = torch.randn(N, D_in).type(dtype)\n",
    "y = torch.randn(N, D_out).type(dtype)\n",
    "\n",
    "#initialise the weight vector\n",
    "\n",
    "w1 = torch.randn(D_in, H).type(dtype)\n",
    "w2 = torch.randn(H, D_out).type(dtype)\n",
    "\n",
    "learning_rate = 1e-6\n",
    "\n",
    "for t in range(1):\n",
    "    h = x.mm(w1)\n",
    "    h_relu = h.clamp(min = 0)\n",
    "    y_pred = h_relu.mm(w2)\n",
    "    \n",
    "    loss = (y_pred - y).pow(2).sum()\n",
    "    \n",
    "    print(t, loss)\n",
    "    \n",
    "    #back prop\n",
    "    \n",
    "    grad_y_pred = 2 * (y_pred - y)\n",
    "    grad_w2 = h_relu.t().mm(grad_ypred)\n",
    "    grad_h_relu = grad_y_pred.mm(w2.t())\n",
    "    grad_h = grad_h_relu.clone()\n",
    "    grad_h[h < 0] = 0\n",
    "    grad_w1 = x.t().mm(grad_h)\n",
    "\n",
    "    # Update weights using gradient descent\n",
    "    w1 -= learning_rate * grad_w1\n",
    "    w2 -= learning_rate * grad_w2\n"
   ]
  },
  {
   "cell_type": "markdown",
   "metadata": {},
   "source": [
    "# Neural Network with pytorch variables - using autograd"
   ]
  },
  {
   "cell_type": "code",
   "execution_count": 81,
   "metadata": {},
   "outputs": [],
   "source": [
    "from torch.autograd import Variable\n",
    "import matplotlib.pyplot as plt\n",
    "\n",
    "loss_arr = []\n",
    "\n",
    "dtype = torch.FloatTensor\n",
    "\n",
    "N, D_in, D_out, H = 64, 1000, 10, 100\n",
    "\n",
    "x = Variable(torch.randn(N, D_in).type(dtype), requires_grad = False)\n",
    "y = Variable(torch.randn(N, D_out).type(dtype), requires_grad = False)\n",
    "\n",
    "w1 = Variable(torch.randn(D_in, H).type(dtype), requires_grad = True)\n",
    "w2 = Variable(torch.randn(H, D_out).type(dtype), requires_grad = True)\n",
    "\n",
    "learning_rate = 1e-6\n",
    "for i in range(500):\n",
    "    h = x.mm(w1)\n",
    "    h_relu = h.clamp(min = 0)\n",
    "    y_pred = h_relu.mm(w2)\n",
    "    \n",
    "    loss = (y_pred - y).pow(2).sum()\n",
    "    \n",
    "    #print(i, loss.data[0])\n",
    "    loss_arr.append(loss.data[0])\n",
    "    loss.backward()\n",
    "    \n",
    "    \n",
    "    w1.data = w1.data - learning_rate * w1.grad.data\n",
    "    w2.data = w2.data - learning_rate * w2.grad.data\n",
    "    \n",
    "    w1.grad.data.zero_()\n",
    "    w2.grad.data.zero_()"
   ]
  },
  {
   "cell_type": "code",
   "execution_count": 82,
   "metadata": {},
   "outputs": [
    {
     "data": {
      "image/png": "[encoded data removed]",
      "text/plain": [
       "<matplotlib.figure.Figure at 0x7f5c51b20ef0>"
      ]
     },
     "metadata": {},
     "output_type": "display_data"
    }
   ],
   "source": [
    "x = np.linspace(1, 500, 500)\n",
    "\n",
    "y = loss_arr\n",
    "\n",
    "plt.figure(figsize=(8,8), dpi = 80)\n",
    "plt.plot(x, y)\n",
    "\n",
    "plt.show()\n"
   ]
  },
  {
   "cell_type": "markdown",
   "metadata": {},
   "source": [
    "# Neural Network Implementation using Pytorch nn package"
   ]
  },
  {
   "cell_type": "code",
   "execution_count": 91,
   "metadata": {},
   "outputs": [],
   "source": [
    "import torch\n",
    "from torch.autograd import Variable\n",
    "import numpy as np\n",
    "\n",
    "%matplotlib inline\n",
    "\n",
    "loss_arr = []\n",
    "\n",
    "dtype = torch.FloatTensor\n",
    "\n",
    "N, D_in, D_out, H = 64, 1000, 10, 100\n",
    "\n",
    "x = Variable(torch.randn(N, D_in).type(dtype), requires_grad = False)\n",
    "y = Variable(torch.randn(N, D_out), requires_grad = False)\n",
    "\n",
    "model = torch.nn.Sequential(torch.nn.Linear(D_in, H, bias = True),\n",
    "                            torch.nn.ReLU(),\n",
    "                            torch.nn.Linear(H, D_out, bias=True)\n",
    "        )\n",
    "\n",
    "loss_fn = torch.nn.MSELoss(size_average=False)\n",
    "\n",
    "learning_rate = 1e-4\n",
    "\n",
    "for t in range(500):\n",
    "    y_pred = model(x)\n",
    "    \n",
    "    loss = loss_fn(y_pred, y)\n",
    "    #print(t, loss.data[0])\n",
    "    loss_arr.append(loss.data[0])\n",
    "    model.zero_grad()\n",
    "    \n",
    "    loss.backward()\n",
    "    \n",
    "    for param in model.parameters():\n",
    "        #print(type(param.data), param.size())\n",
    "        param.data -= learning_rate * param.grad.data\n",
    "    \n",
    "    #for b in model.bias:\n",
    "     \n",
    "        #print(b)"
   ]
  },
  {
   "cell_type": "code",
   "execution_count": 90,
   "metadata": {},
   "outputs": [
    {
     "data": {
      "image/png": "[encoded data removed]",
      "text/plain": [
       "<matplotlib.figure.Figure at 0x7f5c51ee0eb8>"
      ]
     },
     "metadata": {},
     "output_type": "display_data"
    }
   ],
   "source": [
    "x = np.linspace(1, 500, 500)\n",
    "\n",
    "y = loss_arr\n",
    "\n",
    "fig = plt.figure(figsize=(8,8), dpi = 80)\n",
    "plt.plot(x, y)\n",
    "plt.show()\n"
   ]
  },
  {
   "cell_type": "markdown",
   "metadata": {},
   "source": [
    "# Using Optimizer to update parameters"
   ]
  },
  {
   "cell_type": "code",
   "execution_count": 79,
   "metadata": {},
   "outputs": [],
   "source": [
    "import torch\n",
    "from torch.autograd import Variable\n",
    "import numpy as np\n",
    "\n",
    "%matplotlib inline\n",
    "\n",
    "loss_arr = []\n",
    "\n",
    "dtype = torch.FloatTensor\n",
    "\n",
    "N, D_in, D_out, H = 64, 1000, 10, 100\n",
    "\n",
    "x = Variable(torch.randn(N, D_in).type(dtype), requires_grad = False)\n",
    "y = Variable(torch.randn(N, D_out), requires_grad = False)\n",
    "\n",
    "model = torch.nn.Sequential(torch.nn.Linear(D_in, H, bias = True),\n",
    "                            torch.nn.ReLU(),\n",
    "                            torch.nn.Linear(H, D_out, bias=True)\n",
    "        )\n",
    "\n",
    "loss_fn = torch.nn.MSELoss(size_average=False)\n",
    "\n",
    "learning_rate = 1e-4\n",
    "optimizer = torch.optim.Adam(model.parameters(), lr = learning_rate)\n",
    "for t in range(500):\n",
    "    y_pred = model(x)\n",
    "    \n",
    "    loss = loss_fn(y_pred, y)\n",
    "    #print(t, loss.data[0])\n",
    "    loss_arr.append(loss.data[0])\n",
    "    model.zero_grad()\n",
    "    \n",
    "    loss.backward()\n",
    "    \n",
    "    optimizer.step()"
   ]
  },
  {
   "cell_type": "code",
   "execution_count": 80,
   "metadata": {
    "scrolled": true
   },
   "outputs": [
    {
     "data": {
      "image/png": "[encoded data removed]",
      "text/plain": [
       "<matplotlib.figure.Figure at 0x7f5c51b1eb00>"
      ]
     },
     "metadata": {},
     "output_type": "display_data"
    }
   ],
   "source": [
    "x = np.linspace(1, 500, 500)\n",
    "\n",
    "y = loss_arr\n",
    "\n",
    "plt.figure(figsize=(8,8), dpi = 80)\n",
    "plt.plot(x, y)\n",
    "plt.show()\n"
   ]
  },
  {
   "cell_type": "markdown",
   "metadata": {},
   "source": [
    "# Construction of your own modules.\n",
    "\n",
    "1. Sometimes you need to construct your own model, but adding custom steps rather than using the existing ones in Modules. for this you need to subclass the existing nn.Module and define *forward* which takes input Variable and produces Output.\n",
    "\n"
   ]
  }
 ],
 "metadata": {
  "kernelspec": {
   "display_name": "Python 3",
   "language": "python",
   "name": "python3"
  },
  "language_info": {
   "codemirror_mode": {
    "name": "ipython",
    "version": 3
   },
   "file_extension": ".py",
   "mimetype": "text/x-python",
   "name": "python",
   "nbconvert_exporter": "python",
   "pygments_lexer": "ipython3",
   "version": "3.5.3"
  }
 },
 "nbformat": 4,
 "nbformat_minor": 2
}
