{
 "cells": [
  {
   "cell_type": "markdown",
   "metadata": {},
   "source": [
    "# Accuracy using Random Calssifier:\n",
    "\n",
    "When random classifier is used for the calssification problem involving 5 output label, the probability of choosing correct label out of the 5 labels is (1/5) = 20%\n",
    "\n",
    "So the accuracy will be almost equal to 20%.\n",
    "\n",
    "\n",
    "# Accuracy using Majority Classifier:\n",
    "\n",
    "When the majority calssifier is used, the majority label in the traning set is applied to all cross validation data set. So, the only the examples having the majority label will be correct using the Mojority classification model.\n",
    "Here I'm considering the same split in data as Project part 1 (Training: 40000, Cross validation: 5000, Test: 5000)\n",
    "\n",
    "In the given dataset, the training split of the data has majority label of 2.\n",
    "\n",
    "Once this label is predicted for all validation set data, the accuracy = 1022/5000 = 0.20 = 20%"
   ]
  },
  {
   "cell_type": "code",
   "execution_count": 2,
   "metadata": {},
   "outputs": [],
   "source": [
    "%matplotlib inline\n",
    "import matplotlib.pyplot as plt\n",
    "\n",
    "import numpy as np\n",
    "import torch\n",
    "from torch import autograd\n",
    "import torch.nn.functional as F\n",
    "\n",
    "#Prepare the data.\n",
    "import torch\n",
    "import numpy as np\n",
    "from torch.autograd import Variable\n",
    "import torch.nn as nn\n",
    "from numpy import linalg as LA\n",
    "\n",
    "dtype = torch.FloatTensor\n",
    "\n",
    "images = np.load(\"./data/images.npy\")\n",
    "labels = np.load(\"./data/labels.npy\")\n",
    "\n",
    "images = np.reshape(images, (images.shape[0], images.shape[1] * images.shape[2]))\n",
    "\n",
    "images = images - images.mean()\n",
    "images = images/images.std() \n",
    "\n",
    "train_seqs = images[0:40000]\n",
    "val_seqs = images[40000:50000]\n",
    "\n",
    "train_labels = labels[0:40000]\n",
    "cv_labels = labels[40000:50000]"
   ]
  },
  {
   "cell_type": "code",
   "execution_count": 3,
   "metadata": {},
   "outputs": [],
   "source": [
    "HEIGHT, WIDTH, NUM_CLASSES, NUM_OPT_STEPS = 26, 26, 5, 5000\n",
    "learning_rate = 0.001\n",
    "\n",
    "class LinearModel(torch.nn.Module):\n",
    "    def __init__(self, D_in, D_out):\n",
    "        super(LinearModel, self).__init__()\n",
    "        self.Linear = torch.nn.Linear(D_in, D_out)\n",
    "    \n",
    "    def forward(self, x):\n",
    "        y_pred = self.Linear(x)\n",
    "        return y_pred\n",
    "        "
   ]
  },
  {
   "cell_type": "markdown",
   "metadata": {},
   "source": [
    "# torch.Linear Parameters:\n",
    "    \n",
    "    Number of parameters = total weights + biases = 676 * 5 + 5= 3385"
   ]
  },
  {
   "cell_type": "code",
   "execution_count": 4,
   "metadata": {},
   "outputs": [],
   "source": [
    "model = LinearModel(HEIGHT * WIDTH, NUM_CLASSES)"
   ]
  },
  {
   "cell_type": "markdown",
   "metadata": {},
   "source": [
    "# torch.optim:\n",
    "\n",
    "In the previous homeworks, we have used, Stochastic Gradient Descent (SGD) and Adam variant of SGD.\n",
    "\n",
    "Parameters required for ADAM: \n",
    "\n",
    "1. learning rate \n",
    "2. betas(to reduce the learning rate as we approach convergence) , \n",
    "3. eps(epsilon: to make sure the denominator doesnt go to zero) and \n",
    "4. weight_decay\n",
    "\n",
    "Parameters required for SGD:\n",
    "\n",
    "1. learning rate: rate at which weights are updated\n",
    "2. weight decay: to include l2 regulariser in the update\n",
    "3. Momentum\n",
    "\n"
   ]
  },
  {
   "cell_type": "code",
   "execution_count": 5,
   "metadata": {},
   "outputs": [],
   "source": [
    "optimizer = torch.optim.Adam(model.parameters(), lr= learning_rate)"
   ]
  },
  {
   "cell_type": "code",
   "execution_count": 6,
   "metadata": {},
   "outputs": [],
   "source": [
    "def train(batch_size):\n",
    "    model.train()\n",
    "    \n",
    "    i = np.random.choice(train_seqs.shape[0], size = batch_size, replace=False)\n",
    "    x = Variable(torch.from_numpy(train_seqs[i].astype(np.float32)))\n",
    "    y = Variable(torch.from_numpy(train_labels[i].astype(np.int)))\n",
    "    \n",
    "    optimizer.zero_grad()\n",
    "    y_hat = model(x)\n",
    "    loss = F.cross_entropy(y_hat, y)\n",
    "    loss.backward()\n",
    "    optimizer.step()\n",
    "    \n",
    "    return loss.data[0]"
   ]
  },
  {
   "cell_type": "code",
   "execution_count": 7,
   "metadata": {},
   "outputs": [],
   "source": [
    "def accuracy(y, y_hat):\n",
    "    count = 0\n",
    "    for i in range(y.shape[0]):\n",
    "        if y[i] == y_hat[i]:\n",
    "            count += 1\n",
    "    return count/y.shape[0]"
   ]
  },
  {
   "cell_type": "code",
   "execution_count": 8,
   "metadata": {},
   "outputs": [],
   "source": [
    "import random\n",
    "def approx_train_accuracy():\n",
    "    i = np.random.choice(train_seqs.shape[0], size = 1000, replace=False)\n",
    "    x = train_seqs[i].astype(np.float32)\n",
    "    y = train_labels[i].astype(np.int)\n",
    "    y_hat = np.empty(1000)\n",
    "    \n",
    "    index = 1\n",
    "    for param in model.parameters():\n",
    "        if (index%2 != 0):\n",
    "            weights = param.data.numpy()\n",
    "            index +=1\n",
    "        else:\n",
    "            bias = param.data.numpy()\n",
    "\n",
    "    for i in range(1000):\n",
    "        y_pred = x[i].dot(weights.transpose()) + bias\n",
    "        res = np.argmax(y_pred)\n",
    "        y_hat[i] = res\n",
    "    acc = accuracy(y,y_hat)\n",
    "    return acc\n",
    "\n",
    "\n",
    "def val_accuracy():\n",
    "    y_hat = np.empty(1000)\n",
    "\n",
    "    i = np.random.choice(val_seqs.shape[0], size = 1000, replace=False)\n",
    "    x = val_seqs[i].astype(np.float32)\n",
    "    y = cv_labels[i].astype(np.int)\n",
    "    \n",
    "    index = 1\n",
    "    for param in model.parameters():\n",
    "        if (index%2 != 0):\n",
    "            weights = param.data.numpy()\n",
    "            index +=1\n",
    "        else:\n",
    "            bias = param.data.numpy()\n",
    "    for i in range(1000):\n",
    "        y_pred = x[i].dot(weights.transpose()) + bias\n",
    "        res = np.argmax(y_pred)\n",
    "        y_hat[i] = res\n",
    "    acc = accuracy(y,y_hat)\n",
    "    return acc\n"
   ]
  },
  {
   "cell_type": "code",
   "execution_count": 9,
   "metadata": {},
   "outputs": [
    {
     "name": "stdout",
     "output_type": "stream",
     "text": [
      "     0  0.27  0.30\n",
      "   100  0.76  0.77\n",
      "   200  0.77  0.79\n",
      "   300  0.80  0.80\n",
      "   400  0.78  0.78\n",
      "   500  0.79  0.77\n",
      "   600  0.81  0.79\n",
      "   700  0.77  0.77\n",
      "   800  0.79  0.77\n",
      "   900  0.80  0.78\n",
      "  1000  0.80  0.77\n",
      "  1100  0.81  0.78\n",
      "  1200  0.77  0.78\n",
      "  1300  0.78  0.76\n",
      "  1400  0.78  0.78\n",
      "  1500  0.80  0.80\n",
      "  1600  0.77  0.78\n",
      "  1700  0.78  0.80\n",
      "  1800  0.77  0.77\n",
      "  1900  0.77  0.77\n",
      "  2000  0.80  0.76\n",
      "  2100  0.80  0.79\n",
      "  2200  0.77  0.77\n",
      "  2300  0.80  0.78\n",
      "  2400  0.81  0.77\n",
      "  2500  0.81  0.81\n",
      "  2600  0.77  0.77\n",
      "  2700  0.82  0.79\n",
      "  2800  0.76  0.77\n",
      "  2900  0.77  0.78\n",
      "  3000  0.80  0.79\n",
      "  3100  0.78  0.78\n",
      "  3200  0.80  0.78\n",
      "  3300  0.80  0.76\n",
      "  3400  0.79  0.73\n",
      "  3500  0.79  0.77\n",
      "  3600  0.80  0.79\n",
      "  3700  0.79  0.76\n",
      "  3800  0.77  0.76\n",
      "  3900  0.81  0.81\n",
      "  4000  0.78  0.77\n",
      "  4100  0.81  0.79\n",
      "  4200  0.79  0.76\n",
      "  4300  0.80  0.79\n",
      "  4400  0.80  0.78\n",
      "  4500  0.78  0.78\n",
      "  4600  0.79  0.76\n",
      "  4700  0.78  0.76\n",
      "  4800  0.79  0.75\n",
      "  4900  0.79  0.78\n"
     ]
    }
   ],
   "source": [
    "train_accs, val_accs = [], []\n",
    "batch_size = 500\n",
    "for i in range(5000):\n",
    "    l = train(batch_size)\n",
    "    if i % 100 == 0:\n",
    "        train_accs.append(approx_train_accuracy())\n",
    "        val_accs.append(val_accuracy())\n",
    "        print(\"%6d %5.2f %5.2f\" % (i, train_accs[-1], val_accs[-1]))"
   ]
  },
  {
   "cell_type": "code",
   "execution_count": 10,
   "metadata": {},
   "outputs": [
    {
     "name": "stdout",
     "output_type": "stream",
     "text": [
      "max_train accuracy:  0.816\n",
      "max_val accuracy:  0.805\n"
     ]
    },
    {
     "data": {
      "image/png": "[encoded data removed]",
      "text/plain": [
       "<matplotlib.figure.Figure at 0x7fe83ca97438>"
      ]
     },
     "metadata": {},
     "output_type": "display_data"
    }
   ],
   "source": [
    "import matplotlib.pyplot as plt\n",
    "\n",
    "\n",
    "t = np.arange(0,len(train_accs),1)\n",
    "\n",
    "s = train_accs\n",
    "k = val_accs\n",
    "print(\"max_train accuracy: \", max(train_accs))\n",
    "print(\"max_val accuracy: \", max(val_accs))\n",
    "plt.figure(figsize=(8,8), dpi = 80)\n",
    "plt.plot(t, s, t, k)\n",
    "\n",
    "plt.xlabel('number of iteration')\n",
    "plt.ylabel('accuracy')\n",
    "plt.title('Training/validation accuracy')\n",
    "plt.grid(True)\n",
    "plt.show()"
   ]
  },
  {
   "cell_type": "markdown",
   "metadata": {},
   "source": [
    "# Accuracies with batch size  =1 and 5000 steps:\n",
    "\n",
    "With batch size =1, Optimization steps = 5000, using SGD and learning rate=1e-6, the highest accuracy reached is around 24%. \n",
    "\n",
    "\n",
    "Reason for low accuracy: The model is underfitting here. \n",
    "\n",
    "The learning is too less for the loss function to converge. There is significantly high loss in the predictions and weights are not optimal. So, the accuracy is very less."
   ]
  },
  {
   "cell_type": "markdown",
   "metadata": {},
   "source": [
    "# Optimizations:\n",
    "\n",
    "Highest Accuracy Achieved: 82%\n",
    "\n",
    "Learning rate = 0.001\n",
    "Optimiser = Adam\n",
    "Batch size = 5000"
   ]
  },
  {
   "cell_type": "code",
   "execution_count": 15,
   "metadata": {},
   "outputs": [
    {
     "name": "stdout",
     "output_type": "stream",
     "text": [
      "\n",
      " 1\n",
      " 4\n",
      " 1\n",
      " 3\n",
      " 0\n",
      " 0\n",
      " 1\n",
      " 2\n",
      " 2\n",
      " 0\n",
      "[torch.LongTensor of size 10]\n",
      "\n",
      "\n",
      " -2.7174   3.4055   1.4749  -0.3665  -1.5330\n",
      "-11.1176   3.5352   2.4286   0.3420   1.1689\n",
      " -2.6090   3.9169   1.5063  -2.7855  -2.4878\n",
      " -0.6520   0.7602  -0.1555   1.8928  -3.2044\n",
      "  2.5732   0.0816  -0.4192   2.7211  -5.7517\n",
      " -4.7366  -0.0352  -1.5095  -1.5060   2.3959\n",
      " -4.6780   5.2533   2.0974  -3.6109   0.3185\n",
      " -4.8555   1.8551   0.8949  -0.8863  -0.8224\n",
      " -5.6992   2.4292   0.4764  -0.2676  -1.3413\n",
      "  5.9738  -2.3627   0.0532  -1.4417  -5.2597\n",
      "[torch.FloatTensor of size 10x5]\n",
      "\n"
     ]
    },
    {
     "data": {
      "text/plain": [
       "1.5105679035186768"
      ]
     },
     "execution_count": 15,
     "metadata": {},
     "output_type": "execute_result"
    }
   ],
   "source": [
    "def train(batch_size):\n",
    "    model.train()\n",
    "    \n",
    "    i = np.random.choice(train_seqs.shape[0], size = batch_size, replace=False)\n",
    "    x = Variable(torch.from_numpy(train_seqs[i].astype(np.float32)))\n",
    "    y = Variable(torch.from_numpy(train_labels[i].astype(np.int)))\n",
    "    print(y.data)\n",
    "    \n",
    "    optimizer.zero_grad()\n",
    "    y_hat = model(x)\n",
    "    print(y_hat.data)\n",
    "    loss = F.cross_entropy(y_hat, y)\n",
    "    loss.backward()\n",
    "    optimizer.step()\n",
    "    \n",
    "    return loss.data[0]\n",
    "\n",
    "train(10)"
   ]
  }
 ],
 "metadata": {
  "kernelspec": {
   "display_name": "Python 3",
   "language": "python",
   "name": "python3"
  },
  "language_info": {
   "codemirror_mode": {
    "name": "ipython",
    "version": 3
   },
   "file_extension": ".py",
   "mimetype": "text/x-python",
   "name": "python",
   "nbconvert_exporter": "python",
   "pygments_lexer": "ipython3",
   "version": "3.5.3"
  }
 },
 "nbformat": 4,
 "nbformat_minor": 2
}
