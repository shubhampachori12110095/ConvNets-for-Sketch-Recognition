{
 "cells": [
  {
   "cell_type": "code",
   "execution_count": 5,
   "metadata": {},
   "outputs": [
    {
     "name": "stdout",
     "output_type": "stream",
     "text": [
      "torch.Size([128, 30])\n"
     ]
    }
   ],
   "source": [
    "\n",
    "import torch\n",
    "from torch.autograd import Variable\n",
    "import torch.nn\n",
    "\n",
    "m = torch.nn.Linear(20, 30)\n",
    "input = Variable(torch.randn(128, 20))\n",
    "output = m(input)\n",
    "print(output.size())"
   ]
  },
  {
   "cell_type": "code",
   "execution_count": 29,
   "metadata": {},
   "outputs": [
    {
     "name": "stdout",
     "output_type": "stream",
     "text": [
      "[23 52]\n"
     ]
    }
   ],
   "source": [
    "import numpy as np\n",
    "arr = np.random.randn(100,200)\n",
    "print(np.random.choice(arr.shape[0], size = 2, replace=False))"
   ]
  },
  {
   "cell_type": "markdown",
   "metadata": {},
   "source": [
    "# Backup"
   ]
  },
  {
   "cell_type": "code",
   "execution_count": 30,
   "metadata": {},
   "outputs": [
    {
     "data": {
      "text/plain": [
       "'\\ndef val_accuracy():\\n    x =random.sample(range(0,10000),1000)\\n    y = np.empty(1000)\\n    y_hat = np.empty(1000)\\n\\n\\n    index=0\\n\\n    for param in model.parameters():\\n        weights = param.data.numpy()     \\n    \\n    for i in x:\\n        #x = Variable(torch.from_numpy(val_seqs[i].view(1,676).astype(np.float32)))\\n        #x = torch.from_numpy(train_seqs[i].astype(np.float32))\\n        x = train_seqs[i].astype(np.float32)\\n        y[index] = cv_labels[i]\\n        \\n        y_pred = x.dot(weights.transpose())\\n        #y_pred = x.mm(model.parameters())\\n\\n        res = np.argmax(y_pred)\\n\\n        y_hat[index] = res\\n        index += 1\\n\\n    acc = accuracy(y,y_hat)\\n  \\n    return acc\\n'"
      ]
     },
     "execution_count": 30,
     "metadata": {},
     "output_type": "execute_result"
    }
   ],
   "source": [
    "\"\"\"\n",
    "def val_accuracy():\n",
    "    x =random.sample(range(0,10000),1000)\n",
    "    y = np.empty(1000)\n",
    "    y_hat = np.empty(1000)\n",
    "\n",
    "\n",
    "    index=0\n",
    "\n",
    "    for param in model.parameters():\n",
    "        weights = param.data.numpy()     \n",
    "    \n",
    "    for i in x:\n",
    "        #x = Variable(torch.from_numpy(val_seqs[i].view(1,676).astype(np.float32)))\n",
    "        #x = torch.from_numpy(train_seqs[i].astype(np.float32))\n",
    "        x = train_seqs[i].astype(np.float32)\n",
    "        y[index] = cv_labels[i]\n",
    "        \n",
    "        y_pred = x.dot(weights.transpose())\n",
    "        #y_pred = x.mm(model.parameters())\n",
    "\n",
    "        res = np.argmax(y_pred)\n",
    "\n",
    "        y_hat[index] = res\n",
    "        index += 1\n",
    "\n",
    "    acc = accuracy(y,y_hat)\n",
    "  \n",
    "    return acc\n",
    "\"\"\""
   ]
  },
  {
   "cell_type": "code",
   "execution_count": null,
   "metadata": {},
   "outputs": [],
   "source": [
    "import random\n",
    "def approx_train_accuracy():\n",
    "    i = np.random.choice(train_seqs.shape[0], size = 1000, replace=False)\n",
    "    x = Variable(torch.from_numpy(train_seqs[i].astype(np.float32)))\n",
    "    y = train_labels[i].astype(np.int)\n",
    "    #y_hat = np.empty(1000)\n",
    "    \n",
    "    output = model(x)\n",
    "    y_hat = np.argmax(output.data.numpy(), axis =1)\n",
    "    #output.data.max(1, keepdim=True)[1]\n",
    "    #pred = output.data.max(1, keepdim=True)[1]\n",
    "    #print(pred)\n",
    "    #y_hat = pred\n",
    "    acc = accuracy(y,y_hat)\n",
    "    return acc\n",
    "    #return 0\n",
    "\n",
    "def val_accuracy():\n",
    "    y_hat = np.empty(1000)\n",
    "\n",
    "    i = np.random.choice(val_seqs.shape[0], size = 1000, replace=False)\n",
    "    x = Variable(torch.from_numpy(train_seqs[i].astype(np.float32)))\n",
    "    y = cv_labels[i].astype(np.int) \n",
    "    \n",
    "    output = model(x)\n",
    "    y_hat = np.argmax(output.data.numpy(), axis =1)\n",
    "    acc = accuracy(y,y_hat)\n",
    "    return acc\n",
    "\n",
    "for m in model.children():\n",
    "    m.reset_parameters()\n",
    "optimizer = torch.optim.Adam(model.parameters(), lr= 0.001)\n",
    "train_accs, val_accs = [], []\n",
    "batch_size = 100\n",
    "for i in range(2000):\n",
    "    train(batch_size)\n",
    "    if i % 100 == 0:\n",
    "        approx_train_accuracy()\n",
    "        print(val_accuracy())\n",
    "\n",
    "    "
   ]
  }
 ],
 "metadata": {
  "kernelspec": {
   "display_name": "Python 3",
   "language": "python",
   "name": "python3"
  },
  "language_info": {
   "codemirror_mode": {
    "name": "ipython",
    "version": 3
   },
   "file_extension": ".py",
   "mimetype": "text/x-python",
   "name": "python",
   "nbconvert_exporter": "python",
   "pygments_lexer": "ipython3",
   "version": "3.5.3"
  }
 },
 "nbformat": 4,
 "nbformat_minor": 2
}
